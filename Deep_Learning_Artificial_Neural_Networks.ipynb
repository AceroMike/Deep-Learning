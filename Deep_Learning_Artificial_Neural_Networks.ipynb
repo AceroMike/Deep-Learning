{
  "nbformat": 4,
  "nbformat_minor": 0,
  "metadata": {
    "colab": {
      "name": "Deep Learning: Artificial Neural Networks.ipynb",
      "provenance": [],
      "authorship_tag": "ABX9TyM/xJdu7ZRveg5sYqbvi6yo",
      "include_colab_link": true
    },
    "kernelspec": {
      "name": "python3",
      "display_name": "Python 3"
    }
  },
  "cells": [
    {
      "cell_type": "markdown",
      "metadata": {
        "id": "view-in-github",
        "colab_type": "text"
      },
      "source": [
        "<a href=\"https://colab.research.google.com/github/AceroMike/Deep-Learning/blob/main/Deep_Learning_Artificial_Neural_Networks.ipynb\" target=\"_parent\"><img src=\"https://colab.research.google.com/assets/colab-badge.svg\" alt=\"Open In Colab\"/></a>"
      ]
    },
    {
      "cell_type": "code",
      "metadata": {
        "id": "zuak1BqcPd_m"
      },
      "source": [
        "# Imports\r\n",
        "import pandas as pd\r\n",
        "import numpy as np\r\n",
        "import matplotlib.pyplot as plt\r\n",
        "from tensorflow.keras.models import Sequential\r\n",
        "from tensorflow.keras.layers import Dense\r\n",
        "from tensorflow.keras.utils import to_categorical\r\n",
        "\r\n",
        "# Data\r\n",
        "from tensorflow.keras.datasets import mnist\r\n",
        "import warnings\r\n",
        "warnings.filterwarnings(\"ignore\")"
      ],
      "execution_count": 2,
      "outputs": []
    },
    {
      "cell_type": "markdown",
      "metadata": {
        "id": "4fpwl4bGPplM"
      },
      "source": [
        "In this notebook we will be building Dense Neural Networks. If you are unfamiliar with neural networks, conceptually, they are not to hard to understand. Think about models layered on each other. That is, the first model provides the inputs for the second, the second to the third, and so on. This is a Sequential model which we will model here. A dense model implies that the layers are fully connected so each node/feature gives input to each other feature in the 2nd model. Here we will work with the mnist dataset which is a common dataset to practice Deep learning. This dataset contains handwritted images of integers. Therfore, we will try to predict the number. \r\n",
        "\r\n",
        "The first step is to load the data. "
      ]
    },
    {
      "cell_type": "code",
      "metadata": {
        "colab": {
          "base_uri": "https://localhost:8080/"
        },
        "id": "g5VviE9oQVlb",
        "outputId": "31a27486-c95d-43fe-faba-31711528411b"
      },
      "source": [
        "# Loading and Preprocessing the Data\r\n",
        "(X_train, y_train), (X_test, y_test) = mnist.load_data()\r\n",
        "\r\n",
        "input_dim = 784  # 28*28\r\n",
        "output_dim = nb_classes = 10\r\n",
        "batch_size = 128\r\n",
        "nb_epoch = 20\r\n",
        "\r\n",
        "# We will be working on a sample\r\n",
        "X_train = X_train.reshape(60000, input_dim)\r\n",
        "X_test = X_test.reshape(10000, input_dim)\r\n",
        "X_train = X_train.astype('float32')\r\n",
        "X_test = X_test.astype('float32')\r\n",
        "\r\n",
        "# This normalizes the data\r\n",
        "X_train /= 255\r\n",
        "X_test /= 255"
      ],
      "execution_count": 3,
      "outputs": [
        {
          "output_type": "stream",
          "text": [
            "Downloading data from https://storage.googleapis.com/tensorflow/tf-keras-datasets/mnist.npz\n",
            "11493376/11490434 [==============================] - 0s 0us/step\n"
          ],
          "name": "stdout"
        }
      ]
    },
    {
      "cell_type": "markdown",
      "metadata": {
        "id": "CUIuU_KFQ3dz"
      },
      "source": [
        "The `input dimension` is the size of each picture which is 28 * 28 pixels. The `output dimension` is ten because the numbers in the data set include 0-9, or 10 number total. The `nb epoch` tells us how many times the model is going to itterate through the entire data set. \r\n",
        "\r\n",
        "Now we want to one hot encode our target variable. Right now, our target variable tells us the actual number. "
      ]
    },
    {
      "cell_type": "code",
      "metadata": {
        "colab": {
          "base_uri": "https://localhost:8080/"
        },
        "id": "6BFXiIOAR4Sl",
        "outputId": "3a13e681-0ed8-4116-ab8a-59d2872e38cd"
      },
      "source": [
        "y_train[0]"
      ],
      "execution_count": 4,
      "outputs": [
        {
          "output_type": "execute_result",
          "data": {
            "text/plain": [
              "5"
            ]
          },
          "metadata": {
            "tags": []
          },
          "execution_count": 4
        }
      ]
    },
    {
      "cell_type": "markdown",
      "metadata": {
        "id": "8ZGrgluHR7Eg"
      },
      "source": [
        "So the first observation is a 5. Now let's one hot encode by using the `to_categorical()` function from the `keras.utils` module:"
      ]
    },
    {
      "cell_type": "code",
      "metadata": {
        "id": "OizFVLKPR5x7"
      },
      "source": [
        "Y_train = to_categorical(y_train, nb_classes)\r\n",
        "Y_test = to_categorical(y_test, nb_classes)"
      ],
      "execution_count": 5,
      "outputs": []
    },
    {
      "cell_type": "code",
      "metadata": {
        "colab": {
          "base_uri": "https://localhost:8080/"
        },
        "id": "58mg9RPbSIyU",
        "outputId": "a33ec915-b679-41d0-93da-4209172e3471"
      },
      "source": [
        "Y_train[0]"
      ],
      "execution_count": 6,
      "outputs": [
        {
          "output_type": "execute_result",
          "data": {
            "text/plain": [
              "array([0., 0., 0., 0., 0., 1., 0., 0., 0., 0.], dtype=float32)"
            ]
          },
          "metadata": {
            "tags": []
          },
          "execution_count": 6
        }
      ]
    },
    {
      "cell_type": "markdown",
      "metadata": {
        "id": "3CTuE8dPSL22"
      },
      "source": [
        "If you look at the array we now see a 1 in the 6th spot, which corresponds to the number 5. Don't believe me? Let's look at some visualizations before modeling the data. "
      ]
    },
    {
      "cell_type": "code",
      "metadata": {
        "colab": {
          "base_uri": "https://localhost:8080/",
          "height": 307
        },
        "id": "qSRZGDbxSLEv",
        "outputId": "2715977c-50a7-49f6-a61b-33cd85ba624f"
      },
      "source": [
        "plt.figure(figsize=(20,5))\r\n",
        "\r\n",
        "plt.subplot(141)\r\n",
        "plt.imshow(X_train[0].reshape(28,28), cmap=\"gray\")\r\n",
        "plt.title(\"Label of the image: {}\".format(y_train[0]))\r\n",
        "\r\n",
        "plt.subplot(142)\r\n",
        "plt.imshow(X_train[1].reshape(28,28), cmap=\"gray\")\r\n",
        "plt.title(\"Label of the image: {}\".format(y_train[1]))\r\n",
        "\r\n",
        "plt.subplot(143)\r\n",
        "plt.imshow(X_train[2].reshape(28,28), cmap=\"gray\")\r\n",
        "plt.title(\"Label of the image: {}\".format(y_train[2]))\r\n",
        "\r\n",
        "plt.subplot(144)\r\n",
        "plt.imshow(X_train[3].reshape(28,28), cmap=\"gray\")\r\n",
        "plt.title(\"Label of the image: {}\".format(y_train[3]))\r\n",
        "\r\n",
        "plt.show()"
      ],
      "execution_count": 7,
      "outputs": [
        {
          "output_type": "display_data",
          "data": {
            "image/png": "[encoded data removed]",
            "text/plain": [
              "<Figure size 1440x360 with 4 Axes>"
            ]
          },
          "metadata": {
            "tags": [],
            "needs_background": "light"
          }
        }
      ]
    },
    {
      "cell_type": "markdown",
      "metadata": {
        "id": "gW5rg5R9ShSS"
      },
      "source": [
        "Et Voila, now we can model. The first step in modeling an ANN is to decide how many layers you want the model to have as well as how many nodes each layer will have. We will look at 2 different specifications to compare the performance of each. First, we will specify the model as follows:\r\n",
        "\r\n",
        "This ANN will consist of one hidden layer and one output layer. All of the hidden layers will be dense (In later notebooks I will look at others). The first layer and the second layer should have neuron sizes of 32 and 16, respectively.\r\n",
        "\r\n",
        "The layers of an ANN starts with the input layer, followed by as many hidden layers as you please, and ending with the output layer. In this example the output layer will have 10 neurons to correspond to the 10 digits. \r\n"
      ]
    },
    {
      "cell_type": "code",
      "metadata": {
        "id": "A4BMcM7_SfNz"
      },
      "source": [
        "# Initializing the model\r\n",
        "model = Sequential()\r\n",
        "#Input Layer\r\n",
        "model.add(Dense(32, input_shape=(784,), activation='relu'))\r\n",
        "#Hidden Layer\r\n",
        "model.add(Dense(16, input_shape=(784,), activation='relu'))\r\n",
        "#Output Layer\r\n",
        "model.add(Dense(10, activation='softmax'))"
      ],
      "execution_count": 13,
      "outputs": []
    },
    {
      "cell_type": "markdown",
      "metadata": {
        "id": "E0E49BACUpMT"
      },
      "source": [
        "The activation function, is the function that the model tries to minimize. Here we use the 'relu' or Rectified Linear Unit. For the output layer we use softmax. In later notebooks I will go more in depth to discuss but the purpose of this notebook is just to see ANN in action. Let's take a look at the summary of the model. "
      ]
    },
    {
      "cell_type": "code",
      "metadata": {
        "colab": {
          "base_uri": "https://localhost:8080/"
        },
        "id": "sgvDYX5mVIjH",
        "outputId": "ae950985-5e77-43f0-f725-3274ae11874c"
      },
      "source": [
        "model.summary()"
      ],
      "execution_count": 14,
      "outputs": [
        {
          "output_type": "stream",
          "text": [
            "Model: \"sequential_1\"\n",
            "_________________________________________________________________\n",
            "Layer (type)                 Output Shape              Param #   \n",
            "=================================================================\n",
            "dense_3 (Dense)              (None, 32)                25120     \n",
            "_________________________________________________________________\n",
            "dense_4 (Dense)              (None, 16)                528       \n",
            "_________________________________________________________________\n",
            "dense_5 (Dense)              (None, 10)                170       \n",
            "=================================================================\n",
            "Total params: 25,818\n",
            "Trainable params: 25,818\n",
            "Non-trainable params: 0\n",
            "_________________________________________________________________\n"
          ],
          "name": "stdout"
        }
      ]
    },
    {
      "cell_type": "markdown",
      "metadata": {
        "id": "SXS9tO6PVLpC"
      },
      "source": [
        "Our model now has 3 dense layers and is estimating a total of 25,818 parameters. Now let's compile the model. When compiling the model we have to decide 3 things: \r\n",
        "- What optimizer will be used in training\r\n",
        "- What loss function will be used\r\n",
        "- How will we measure training performance. \r\n",
        "\r\n",
        "We will not go in depth, yet, in the different ways. But will optimize using Stochastic Gradient Descent, our loss function will be Categorical Cross Entropy and our metric will be accuracy since we want to see how well our model predicts the number of the image. "
      ]
    },
    {
      "cell_type": "code",
      "metadata": {
        "id": "sq8F9cuLVJte"
      },
      "source": [
        "model.compile(optimizer='sgd', loss='categorical_crossentropy', metrics=['accuracy'])\r\n"
      ],
      "execution_count": 15,
      "outputs": []
    },
    {
      "cell_type": "markdown",
      "metadata": {
        "id": "imnjeIjWWUdC"
      },
      "source": [
        "Now we can train the model using the usual `.fit()` method"
      ]
    },
    {
      "cell_type": "code",
      "metadata": {
        "colab": {
          "base_uri": "https://localhost:8080/"
        },
        "id": "5E09pVgaWRhV",
        "outputId": "7ef9fba5-2530-4080-cba4-d5263e9c6a88"
      },
      "source": [
        "#Fitting the model\r\n",
        "model.fit(X_train, Y_train, validation_data=(X_test, Y_test), batch_size=128, epochs=20, verbose=1)"
      ],
      "execution_count": 16,
      "outputs": [
        {
          "output_type": "stream",
          "text": [
            "Epoch 1/20\n",
            "469/469 [==============================] - 1s 2ms/step - loss: 2.1288 - accuracy: 0.2506 - val_loss: 1.2652 - val_accuracy: 0.6254\n",
            "Epoch 2/20\n",
            "469/469 [==============================] - 1s 2ms/step - loss: 1.0630 - accuracy: 0.6946 - val_loss: 0.6635 - val_accuracy: 0.8160\n",
            "Epoch 3/20\n",
            "469/469 [==============================] - 1s 2ms/step - loss: 0.6266 - accuracy: 0.8215 - val_loss: 0.4883 - val_accuracy: 0.8637\n",
            "Epoch 4/20\n",
            "469/469 [==============================] - 1s 2ms/step - loss: 0.4754 - accuracy: 0.8673 - val_loss: 0.4085 - val_accuracy: 0.8856\n",
            "Epoch 5/20\n",
            "469/469 [==============================] - 1s 2ms/step - loss: 0.4095 - accuracy: 0.8850 - val_loss: 0.3630 - val_accuracy: 0.8983\n",
            "Epoch 6/20\n",
            "469/469 [==============================] - 1s 2ms/step - loss: 0.3693 - accuracy: 0.8972 - val_loss: 0.3380 - val_accuracy: 0.9063\n",
            "Epoch 7/20\n",
            "469/469 [==============================] - 1s 2ms/step - loss: 0.3464 - accuracy: 0.9021 - val_loss: 0.3192 - val_accuracy: 0.9087\n",
            "Epoch 8/20\n",
            "469/469 [==============================] - 1s 2ms/step - loss: 0.3350 - accuracy: 0.9040 - val_loss: 0.3080 - val_accuracy: 0.9107\n",
            "Epoch 9/20\n",
            "469/469 [==============================] - 1s 2ms/step - loss: 0.3148 - accuracy: 0.9099 - val_loss: 0.2963 - val_accuracy: 0.9152\n",
            "Epoch 10/20\n",
            "469/469 [==============================] - 1s 2ms/step - loss: 0.3008 - accuracy: 0.9142 - val_loss: 0.2865 - val_accuracy: 0.9182\n",
            "Epoch 11/20\n",
            "469/469 [==============================] - 1s 2ms/step - loss: 0.2840 - accuracy: 0.9185 - val_loss: 0.2788 - val_accuracy: 0.9195\n",
            "Epoch 12/20\n",
            "469/469 [==============================] - 1s 2ms/step - loss: 0.2865 - accuracy: 0.9179 - val_loss: 0.2718 - val_accuracy: 0.9220\n",
            "Epoch 13/20\n",
            "469/469 [==============================] - 1s 2ms/step - loss: 0.2704 - accuracy: 0.9228 - val_loss: 0.2656 - val_accuracy: 0.9232\n",
            "Epoch 14/20\n",
            "469/469 [==============================] - 1s 2ms/step - loss: 0.2641 - accuracy: 0.9241 - val_loss: 0.2587 - val_accuracy: 0.9236\n",
            "Epoch 15/20\n",
            "469/469 [==============================] - 1s 2ms/step - loss: 0.2604 - accuracy: 0.9263 - val_loss: 0.2540 - val_accuracy: 0.9261\n",
            "Epoch 16/20\n",
            "469/469 [==============================] - 1s 2ms/step - loss: 0.2552 - accuracy: 0.9265 - val_loss: 0.2471 - val_accuracy: 0.9288\n",
            "Epoch 17/20\n",
            "469/469 [==============================] - 1s 2ms/step - loss: 0.2439 - accuracy: 0.9293 - val_loss: 0.2454 - val_accuracy: 0.9298\n",
            "Epoch 18/20\n",
            "469/469 [==============================] - 1s 2ms/step - loss: 0.2386 - accuracy: 0.9312 - val_loss: 0.2361 - val_accuracy: 0.9312\n",
            "Epoch 19/20\n",
            "469/469 [==============================] - 1s 2ms/step - loss: 0.2332 - accuracy: 0.9323 - val_loss: 0.2307 - val_accuracy: 0.9332\n",
            "Epoch 20/20\n",
            "469/469 [==============================] - 1s 2ms/step - loss: 0.2286 - accuracy: 0.9329 - val_loss: 0.2263 - val_accuracy: 0.9338\n"
          ],
          "name": "stdout"
        },
        {
          "output_type": "execute_result",
          "data": {
            "text/plain": [
              "<tensorflow.python.keras.callbacks.History at 0x7fd7f6ab5a20>"
            ]
          },
          "metadata": {
            "tags": []
          },
          "execution_count": 16
        }
      ]
    },
    {
      "cell_type": "markdown",
      "metadata": {
        "id": "pX0Vvsm0Wwbi"
      },
      "source": [
        "The accuracy column here tells us only how the data predicts itself, that is, the test data, the val_accuracy is the one that tells us how it does outside of the model As we can see, with each iteration, the accuracy of the model increases. Now let's look at another specification so we can compare. Now we will specify the model as follows:\r\n",
        "\r\n",
        "This ANN should have four hidden layers and one output layer. All of the layers should be dense. The neuron numbers for the layers should be 1024, 512, 256, 128, and 64."
      ]
    },
    {
      "cell_type": "code",
      "metadata": {
        "id": "DbAR-KPsWcux"
      },
      "source": [
        "model = Sequential()\r\n",
        "#Input Layer\r\n",
        "model.add(Dense(1024, input_shape=(784,), activation='relu'))\r\n",
        "#Hidden Layer 1\r\n",
        "model.add(Dense(512, input_shape=(784,), activation='relu'))\r\n",
        "#Hidden Layer 2\r\n",
        "model.add(Dense(256, input_shape=(784,), activation='relu'))\r\n",
        "#Hidden Layer 3\r\n",
        "model.add(Dense(128, input_shape=(784,), activation='relu'))\r\n",
        "#Hidden Layer 4\r\n",
        "model.add(Dense(64, input_shape=(784,), activation='relu'))\r\n",
        "#Output Layer\r\n",
        "model.add(Dense(10, activation='softmax'))"
      ],
      "execution_count": 17,
      "outputs": []
    },
    {
      "cell_type": "code",
      "metadata": {
        "id": "PzmBXntVX5PS"
      },
      "source": [
        "model.compile(optimizer='sgd', loss='categorical_crossentropy', metrics=['accuracy'])"
      ],
      "execution_count": 18,
      "outputs": []
    },
    {
      "cell_type": "markdown",
      "metadata": {
        "id": "M_UtGGggX_wp"
      },
      "source": [
        "Since we are estimating more parameters, the code will take longer to run"
      ]
    },
    {
      "cell_type": "code",
      "metadata": {
        "colab": {
          "base_uri": "https://localhost:8080/"
        },
        "id": "SAVX_DXgX75B",
        "outputId": "bee77dfe-46ee-422f-e6bd-e0e3941d12c0"
      },
      "source": [
        "#Fitting the model\r\n",
        "model.fit(X_train, Y_train, validation_data=(X_test, Y_test), batch_size=128, epochs=20, verbose=1)"
      ],
      "execution_count": 19,
      "outputs": [
        {
          "output_type": "stream",
          "text": [
            "Epoch 1/20\n",
            "469/469 [==============================] - 12s 24ms/step - loss: 1.8538 - accuracy: 0.4697 - val_loss: 0.4665 - val_accuracy: 0.8785\n",
            "Epoch 2/20\n",
            "469/469 [==============================] - 11s 24ms/step - loss: 0.4217 - accuracy: 0.8835 - val_loss: 0.3075 - val_accuracy: 0.9089\n",
            "Epoch 3/20\n",
            "469/469 [==============================] - 11s 24ms/step - loss: 0.2918 - accuracy: 0.9162 - val_loss: 0.2430 - val_accuracy: 0.9302\n",
            "Epoch 4/20\n",
            "469/469 [==============================] - 11s 24ms/step - loss: 0.2397 - accuracy: 0.9301 - val_loss: 0.2121 - val_accuracy: 0.9376\n",
            "Epoch 5/20\n",
            "469/469 [==============================] - 11s 24ms/step - loss: 0.2092 - accuracy: 0.9393 - val_loss: 0.1914 - val_accuracy: 0.9441\n",
            "Epoch 6/20\n",
            "469/469 [==============================] - 12s 25ms/step - loss: 0.1844 - accuracy: 0.9465 - val_loss: 0.1741 - val_accuracy: 0.9487\n",
            "Epoch 7/20\n",
            "469/469 [==============================] - 12s 25ms/step - loss: 0.1699 - accuracy: 0.9500 - val_loss: 0.1880 - val_accuracy: 0.9448\n",
            "Epoch 8/20\n",
            "469/469 [==============================] - 12s 25ms/step - loss: 0.1496 - accuracy: 0.9576 - val_loss: 0.1470 - val_accuracy: 0.9557\n",
            "Epoch 9/20\n",
            "469/469 [==============================] - 12s 25ms/step - loss: 0.1374 - accuracy: 0.9600 - val_loss: 0.1350 - val_accuracy: 0.9592\n",
            "Epoch 10/20\n",
            "469/469 [==============================] - 12s 25ms/step - loss: 0.1263 - accuracy: 0.9640 - val_loss: 0.1406 - val_accuracy: 0.9580\n",
            "Epoch 11/20\n",
            "469/469 [==============================] - 12s 25ms/step - loss: 0.1182 - accuracy: 0.9662 - val_loss: 0.1233 - val_accuracy: 0.9635\n",
            "Epoch 12/20\n",
            "469/469 [==============================] - 12s 25ms/step - loss: 0.1081 - accuracy: 0.9685 - val_loss: 0.1181 - val_accuracy: 0.9639\n",
            "Epoch 13/20\n",
            "469/469 [==============================] - 12s 25ms/step - loss: 0.0998 - accuracy: 0.9710 - val_loss: 0.1099 - val_accuracy: 0.9670\n",
            "Epoch 14/20\n",
            "469/469 [==============================] - 12s 25ms/step - loss: 0.0899 - accuracy: 0.9743 - val_loss: 0.1175 - val_accuracy: 0.9651\n",
            "Epoch 15/20\n",
            "469/469 [==============================] - 12s 25ms/step - loss: 0.0858 - accuracy: 0.9754 - val_loss: 0.0999 - val_accuracy: 0.9690\n",
            "Epoch 16/20\n",
            "469/469 [==============================] - 11s 24ms/step - loss: 0.0798 - accuracy: 0.9780 - val_loss: 0.0971 - val_accuracy: 0.9698\n",
            "Epoch 17/20\n",
            "469/469 [==============================] - 12s 25ms/step - loss: 0.0731 - accuracy: 0.9798 - val_loss: 0.0953 - val_accuracy: 0.9697\n",
            "Epoch 18/20\n",
            "469/469 [==============================] - 11s 24ms/step - loss: 0.0698 - accuracy: 0.9805 - val_loss: 0.0900 - val_accuracy: 0.9727\n",
            "Epoch 19/20\n",
            "469/469 [==============================] - 12s 25ms/step - loss: 0.0630 - accuracy: 0.9824 - val_loss: 0.0911 - val_accuracy: 0.9719\n",
            "Epoch 20/20\n",
            "469/469 [==============================] - 12s 25ms/step - loss: 0.0568 - accuracy: 0.9843 - val_loss: 0.0981 - val_accuracy: 0.9700\n"
          ],
          "name": "stdout"
        },
        {
          "output_type": "execute_result",
          "data": {
            "text/plain": [
              "<tensorflow.python.keras.callbacks.History at 0x7fd7f6ab44e0>"
            ]
          },
          "metadata": {
            "tags": []
          },
          "execution_count": 19
        }
      ]
    },
    {
      "cell_type": "markdown",
      "metadata": {
        "id": "kfiFCHXpYMCn"
      },
      "source": [
        "As we see, we quickly surpass the accuracy of the first model. This will not always be the case although, unlike shallow models (models that are not deep) We can more easily increase the number of features without worrying (as much) about overfitting because ANN models don't begin to overfit as quickly, But still we bigin to see the model overfit more with each iteration. We also see that we minimize loss the most with this model. "
      ]
    },
    {
      "cell_type": "code",
      "metadata": {
        "id": "iZ3qB8vpX9di"
      },
      "source": [
        ""
      ],
      "execution_count": null,
      "outputs": []
    }
  ]
}